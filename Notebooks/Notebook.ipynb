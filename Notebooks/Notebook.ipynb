{
 "cells": [
  {
   "cell_type": "markdown",
   "id": "fa3d1acc",
   "metadata": {},
   "source": [
    "# Title\n",
    "\n",
    "## Import Libraries"
   ]
  },
  {
   "cell_type": "code",
   "execution_count": 8,
   "id": "92da4dac",
   "metadata": {},
   "outputs": [],
   "source": [
    "# Import requests for JSON\n",
    "import requests\n",
    "\n",
    "# Import libraries required for this analysis\n",
    "import numpy as np\n",
    "import pandas as pd\n",
    "\n",
    "# For displaying plots \n",
    "import seaborn as sns\n",
    "import matplotlib.pyplot as plt\n",
    "\n",
    "# For timing training/prediction\n",
    "import time\n",
    "\n",
    "# Display all fields\n",
    "pd.set_option('display.max_columns', None)\n",
    "\n",
    "# Ignore warnings\n",
    "import warnings\n",
    "warnings.filterwarnings('ignore')"
   ]
  },
  {
   "cell_type": "markdown",
   "id": "2534c12d",
   "metadata": {},
   "source": [
    "## Import Raw Data from NPS API\n",
    "\n",
    "\n",
    "\n"
   ]
  },
  {
   "cell_type": "code",
   "execution_count": 17,
   "id": "dfb7f269",
   "metadata": {},
   "outputs": [
    {
     "name": "stdout",
     "output_type": "stream",
     "text": [
      "                                            fullName parkCode      latitude  \\\n",
      "0  Abraham Lincoln Birthplace National Historical...     abli    37.5858662   \n",
      "1                               Acadia National Park     acad     44.409286   \n",
      "2                     Adams National Historical Park     adam    42.2553961   \n",
      "3                African American Civil War Memorial     afam       38.9166   \n",
      "4            African Burial Ground National Monument     afbg   40.71452681   \n",
      "5                Agate Fossil Beds National Monument     agfo   42.42170419   \n",
      "6                Ala Kahakai National Historic Trail     alka  19.144668109   \n",
      "7                                 Alagnak Wild River     alag   59.05180188   \n",
      "8                                Alaska Public Lands     anch       61.2188   \n",
      "9                                    Alcatraz Island     alca   37.82676234   \n",
      "\n",
      "        longitude                                         activities  \\\n",
      "0    -85.67330523  Astronomy, Stargazing, Food, Picnicking, Guide...   \n",
      "1      -68.247501  Arts and Culture, Cultural Demonstrations, Ast...   \n",
      "2    -71.01160356  Guided Tours, Self-Guided Tours - Walking, Liv...   \n",
      "3         -77.026          Guided Tours, Self-Guided Tours - Walking   \n",
      "4    -74.00447358  Arts and Culture, Guided Tours, Junior Ranger ...   \n",
      "5     -103.753886  Arts and Culture, Cultural Demonstrations, Ast...   \n",
      "6  -155.890734294  Arts and Culture, Cultural Demonstrations, Aut...   \n",
      "7     -156.112002  Boating, Camping, Backcountry Camping, Fishing...   \n",
      "8     -149.894536                                                      \n",
      "9    -122.4230206  Food, Wildlife Watching, Birdwatching, Museum ...   \n",
      "\n",
      "                designation states  \\\n",
      "0  National Historical Park     KY   \n",
      "1             National Park     ME   \n",
      "2  National Historical Park     MA   \n",
      "3                               DC   \n",
      "4         National Monument     NY   \n",
      "5         National Monument     NE   \n",
      "6   National Historic Trail     HI   \n",
      "7                Wild River     AK   \n",
      "8                               AK   \n",
      "9                               CA   \n",
      "\n",
      "                                         description  \n",
      "0  For over a century people from around the worl...  \n",
      "1  Acadia National Park protects the natural beau...  \n",
      "2  From the sweet little farm at the foot of Penn...  \n",
      "3  Over 200,000 African-American soldiers and sai...  \n",
      "4  The African Burial Ground is the oldest and la...  \n",
      "5  In the early 1900s, paleontologists unearthed ...  \n",
      "6  Established in 2000 to preserve, protect and i...  \n",
      "7  The headwaters of Alagnak Wild River lie withi...  \n",
      "8  Alaska’s parks, forests, and refuges are rich ...  \n",
      "9  Alcatraz reveals stories of American incarcera...  \n"
     ]
    }
   ],
   "source": [
    "API_KEY = \"fpyJ9NycrgZX5mK8f0n90c4qXGPcYAsBPwt4BLJk\"\n",
    "url = \"https://developer.nps.gov/api/v1/parks\"\n",
    "\n",
    "params = {\n",
    "    \"limit\": 50,\n",
    "    \"start\": 0,\n",
    "    \"api_key\": API_KEY\n",
    "}\n",
    "\n",
    "response = requests.get(url, params=params)\n",
    "data = response.json()\n",
    "\n",
    "# Get the list of parks from the response\n",
    "parks_data = data.get('data', [])\n",
    "\n",
    "# Extract relevant fields into list of dicts\n",
    "records = []\n",
    "for park in parks_data:\n",
    "    activity_names = [activity['name'] for activity in park.get('activities', [])]\n",
    "    record = {\n",
    "        'fullName': park.get('fullName', ''),\n",
    "        'parkCode': park.get('parkCode', ''),\n",
    "        'latitude': park.get('latitude', ''),\n",
    "        'longitude': park.get('longitude', ''),\n",
    "        'activities': ', '.join(activity_names),\n",
    "        'designation': park.get('designation', ''),\n",
    "        'states': park.get('states', ''),\n",
    "        'description': park.get('description', '')\n",
    "    }\n",
    "    records.append(record)\n",
    "\n",
    "# Convert list of dicts to DataFrame\n",
    "parks_df = pd.DataFrame(records)\n",
    "\n",
    "print(parks_df.head(10))"
   ]
  },
  {
   "cell_type": "markdown",
   "id": "3a48403d",
   "metadata": {},
   "source": [
    "## Inspect Data"
   ]
  }
 ],
 "metadata": {
  "kernelspec": {
   "display_name": "base",
   "language": "python",
   "name": "python3"
  },
  "language_info": {
   "codemirror_mode": {
    "name": "ipython",
    "version": 3
   },
   "file_extension": ".py",
   "mimetype": "text/x-python",
   "name": "python",
   "nbconvert_exporter": "python",
   "pygments_lexer": "ipython3",
   "version": "3.12.3"
  }
 },
 "nbformat": 4,
 "nbformat_minor": 5
}
